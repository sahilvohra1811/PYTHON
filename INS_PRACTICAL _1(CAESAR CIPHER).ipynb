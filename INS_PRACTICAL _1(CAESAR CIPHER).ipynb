{
 "cells": [
  {
   "cell_type": "code",
   "execution_count": 30,
   "id": "fa88e0be",
   "metadata": {},
   "outputs": [
    {
     "name": "stdout",
     "output_type": "stream",
     "text": [
      "Enter the plain text : sahilvohra\n",
      "Enter the value of key : 3\n",
      "After encryption of plain text :  vdkloyrkud\n",
      "After decryption of cipher text :  sahilvohra\n"
     ]
    }
   ],
   "source": [
    "# To implement Caesar cipher encryptio - decryption.\n",
    "\n",
    "p_txt = input(\"Enter the plain text : \")\n",
    "key = int(input(\"Enter the value of key : \"))\n",
    "\n",
    "def encypt_func(p_txt, key):  \n",
    "    result = \"\"  \n",
    "    \n",
    "    for i in range(len(p_txt)):  \n",
    "        char = p_txt[i]  \n",
    "  \n",
    "        if (char.isupper()):  \n",
    "            result += chr((ord(char) + key - 65) % 26 + 65)\n",
    "        else:  \n",
    "            result += chr((ord(char) + key - 97) % 26 + 97)  \n",
    "    return result\n",
    "\n",
    "def dcypt_func(c_txt, key):  \n",
    "    result = \"\"  \n",
    "    \n",
    "    for i in range(len(c_txt)):  \n",
    "        char = c_txt[i]  \n",
    "  \n",
    "        if (char.isupper()):  \n",
    "            result += chr((ord(char) - key - 65) % 26 + 65)\n",
    "        else:  \n",
    "            result += chr((ord(char) - key - 97) % 26 + 97)  \n",
    "    return result\n",
    "\n",
    "cipher_text = encypt_func(p_txt, key)\n",
    "print(\"After encryption of plain text : \",cipher_text)\n",
    "plain_text = dcypt_func(cipher_text, key)\n",
    "print(\"After decryption of cipher text : \",plain_text)"
   ]
  },
  {
   "cell_type": "code",
   "execution_count": 15,
   "id": "696ba29f",
   "metadata": {},
   "outputs": [
    {
     "name": "stdout",
     "output_type": "stream",
     "text": [
      "115\n"
     ]
    }
   ],
   "source": [
    "print(ord('s'))"
   ]
  },
  {
   "cell_type": "code",
   "execution_count": 25,
   "id": "ac92fe01",
   "metadata": {},
   "outputs": [
    {
     "name": "stdout",
     "output_type": "stream",
     "text": [
      "119\n"
     ]
    }
   ],
   "source": [
    "print((122 - 3 - 97) % 26 + 97)"
   ]
  },
  {
   "cell_type": "code",
   "execution_count": 26,
   "id": "4972b259",
   "metadata": {},
   "outputs": [
    {
     "name": "stdout",
     "output_type": "stream",
     "text": [
      "w\n"
     ]
    }
   ],
   "source": [
    "print(chr(119))"
   ]
  },
  {
   "cell_type": "code",
   "execution_count": null,
   "id": "93d6039f",
   "metadata": {},
   "outputs": [],
   "source": []
  }
 ],
 "metadata": {
  "kernelspec": {
   "display_name": "Python 3 (ipykernel)",
   "language": "python",
   "name": "python3"
  },
  "language_info": {
   "codemirror_mode": {
    "name": "ipython",
    "version": 3
   },
   "file_extension": ".py",
   "mimetype": "text/x-python",
   "name": "python",
   "nbconvert_exporter": "python",
   "pygments_lexer": "ipython3",
   "version": "3.9.12"
  }
 },
 "nbformat": 4,
 "nbformat_minor": 5
}
