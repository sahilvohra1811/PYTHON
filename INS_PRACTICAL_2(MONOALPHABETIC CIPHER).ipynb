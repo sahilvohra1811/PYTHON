{
 "cells": [
  {
   "cell_type": "code",
   "execution_count": 5,
   "id": "1cfd756f",
   "metadata": {},
   "outputs": [
    {
     "name": "stdout",
     "output_type": "stream",
     "text": [
      "Enter the value of plain text : sahil\n",
      "After encryption of plain text :  imasg\n",
      "After decryption of cipher text :  sahil\n"
     ]
    }
   ],
   "source": [
    "# To implement Monoalphabetic cipher encryption - decryption \n",
    "monoalpha_cipher = { 'a': 'm','b': 'n','c': 'b','d': 'v','e': 'c','f': 'x','g': 'z','h': 'a','i': 's','j': 'd','k': 'f','l': 'g',\n",
    "'m': 'h','n': 'j','o': 'k','p': 'l','q': 'p','r': 'o','s': 'i','t': 'u','u': 'y','v': 't','w': 'r','x': 'e','y': 'w','z': 'q'}\n",
    "\n",
    "text = input(\"Enter the value of plain text : \")\n",
    "\n",
    "def encypt_func(text):  \n",
    "    result = \"\"  \n",
    "    \n",
    "    for i in range(len(text)):  \n",
    "        char = text[i]  \n",
    "        for key in monoalpha_cipher:\n",
    "            if(key == char):\n",
    "                result += monoalpha_cipher[key]       \n",
    "    return result\n",
    "\n",
    "def dcypt_func(c_text):  \n",
    "    result = \"\"  \n",
    "    \n",
    "    for i in range(len(c_text)):  \n",
    "        char = c_text[i]  \n",
    "        for key,val in monoalpha_cipher.items():\n",
    "            if(val == char):\n",
    "                result += key       \n",
    "    return result\n",
    "\n",
    "cipher_text = encypt_func(text)\n",
    "print(\"After encryption of plain text : \",cipher_text)\n",
    "plain_text = dcypt_func(cipher_text)\n",
    "print(\"After decryption of cipher text : \",plain_text)\n"
   ]
  },
  {
   "cell_type": "code",
   "execution_count": null,
   "id": "4bcd3010",
   "metadata": {},
   "outputs": [],
   "source": []
  }
 ],
 "metadata": {
  "kernelspec": {
   "display_name": "Python 3 (ipykernel)",
   "language": "python",
   "name": "python3"
  },
  "language_info": {
   "codemirror_mode": {
    "name": "ipython",
    "version": 3
   },
   "file_extension": ".py",
   "mimetype": "text/x-python",
   "name": "python",
   "nbconvert_exporter": "python",
   "pygments_lexer": "ipython3",
   "version": "3.9.12"
  }
 },
 "nbformat": 4,
 "nbformat_minor": 5
}
